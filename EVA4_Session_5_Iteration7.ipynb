{
  "nbformat": 4,
  "nbformat_minor": 0,
  "metadata": {
    "colab": {
      "name": "EVA4_Session_5_Iteration7.ipynb",
      "provenance": [],
      "collapsed_sections": []
    },
    "kernelspec": {
      "name": "python3",
      "display_name": "Python 3"
    },
    "accelerator": "GPU"
  },
  "cells": [
    {
      "cell_type": "code",
      "metadata": {
        "id": "0m2JWFliFfKT",
        "colab_type": "code",
        "colab": {}
      },
      "source": [
        "from __future__ import print_function\n",
        "import torch\n",
        "import torch.nn as nn\n",
        "import torch.nn.functional as F\n",
        "import torch.optim as optim\n",
        "from torchvision import datasets, transforms\n",
        "import pandas as pd"
      ],
      "execution_count": 0,
      "outputs": []
    },
    {
      "cell_type": "code",
      "metadata": {
        "id": "h_Cx9q2QFgM7",
        "colab_type": "code",
        "colab": {}
      },
      "source": [
        "class Net(nn.Module):\n",
        "    def __init__(self):\n",
        "        super(Net, self).__init__()\n",
        "        do_value=0.02\n",
        "        self.conv1 = nn.Sequential(\n",
        "            nn.Conv2d(in_channels=1, out_channels=20, kernel_size=(3,3), padding=0, stride=1), \n",
        "            nn.BatchNorm2d(20),\n",
        "            nn.Dropout(do_value),\n",
        "            nn.ReLU()\n",
        "        )\n",
        "        #Output=26 RF=3X3 [RFin + (Ksize-1 * JMPin) => 1+(3-1)*1 =3]  :JMPin=1, Jout= JMPin X s = 1\n",
        "        \n",
        "        self.conv2 = nn.Sequential(\n",
        "            nn.Conv2d(in_channels=20, out_channels=16, kernel_size=(3,3), padding=0, stride=1),\n",
        "            nn.BatchNorm2d(16),\n",
        "            nn.Dropout(do_value),\n",
        "            nn.ReLU()    \n",
        "        )\n",
        "        #Output=24 RF=5X5  [RFin + (Ksize-1 * JMPin) => 3+(3-1)*1 =5] :JMPin=1, Jout =JMPin X s =1\n",
        "\n",
        "        self.pool1 = nn.MaxPool2d(2, 2)#Output=12 RF=6X6 [RFin + (Ksize-1 * JMPin) => 5+(2-1)*1 =6] :JMPin=1, Jout=  JMPin X s =2\n",
        "\n",
        "        self.conv3 = nn.Sequential(\n",
        "            nn.Conv2d(in_channels=16, out_channels=16, kernel_size=(3,3), padding=0, stride=1),\n",
        "            nn.BatchNorm2d(16),\n",
        "            nn.Dropout(do_value),\n",
        "            nn.ReLU()\n",
        "        )\n",
        "        #Output=10 RF=10X10 [RFin + (Ksize-1 * JMPin) => 6+(3-1)*2 =10] : Jout= JMPin X s = 2X1 :JMPin=2, Jout= JMPin X s = 2X1=2\n",
        "\n",
        "        self.pool2 = nn.MaxPool2d(2, 2) #Output=5 RF=12[RFin + (Ksize-1 * JMPin) => 10+(2-1)*2 =12]  :JMPin=2, Jout =JMPin X s = 2X2 =4\n",
        "\n",
        "        self.conv4 = nn.Sequential(\n",
        "            nn.Conv2d(in_channels=16, out_channels=16, kernel_size=(3,3), padding=0, stride=1),\n",
        "            nn.BatchNorm2d(16),\n",
        "            nn.Dropout(do_value),\n",
        "            nn.ReLU()            \n",
        "        )\n",
        "        #Output=3 RF= 20[RFin + (Ksize-1 * JMPin) => 12+(3-1)*4 =20] :JMPin=4, Jout =JMPin X s = 4X1=4\n",
        "        \n",
        "        self.conv5 = nn.Sequential(\n",
        "            nn.Conv2d(in_channels=16, out_channels=13, kernel_size=(3,3), padding=0, stride=1),\n",
        "            nn.BatchNorm2d(13),\n",
        "            nn.Dropout(do_value),\n",
        "            nn.ReLU()\n",
        "            \n",
        "        )\n",
        "        #Output=1 RF=28 [RFin + (Ksize-1 * JMPin) => 20+(3-1)*4 =28]  :JMPin=4, Jout=JMPin X s = 4X1=4\n",
        "        \n",
        "        self.conv6 = nn.Sequential(\n",
        "            nn.Conv2d(in_channels=13, out_channels=10, kernel_size=(1,1), padding=0, stride=1)\n",
        "            \n",
        "        )\n",
        "        \n",
        "     \n",
        "\n",
        "    def forward(self, x):\n",
        "        x = self.conv1(x)\n",
        "        x = self.conv2(x)\n",
        "        x = self.pool1(x)\n",
        "        x = self.conv3(x)\n",
        "        x = self.pool2(x)\n",
        "        x = self.conv4(x)\n",
        "        x = self.conv5(x)   \n",
        "        x = self.conv6(x)      \n",
        "        x = x.view(-1, 10)\n",
        "        return F.log_softmax(x)"
      ],
      "execution_count": 0,
      "outputs": []
    },
    {
      "cell_type": "code",
      "metadata": {
        "colab_type": "code",
        "id": "xdydjYTZFyi3",
        "outputId": "59a97c9f-b3ed-4bae-e6ce-0b1de68300ef",
        "colab": {
          "base_uri": "https://localhost:8080/",
          "height": 635
        }
      },
      "source": [
        "!pip install torchsummary\n",
        "from torchsummary import summary\n",
        "use_cuda = torch.cuda.is_available()\n",
        "device = torch.device(\"cuda\" if use_cuda else \"cpu\")\n",
        "model = Net().to(device)\n",
        "summary(model, input_size=(1, 28, 28))"
      ],
      "execution_count": 5,
      "outputs": [
        {
          "output_type": "stream",
          "text": [
            "Requirement already satisfied: torchsummary in /usr/local/lib/python3.6/dist-packages (1.5.1)\n",
            "----------------------------------------------------------------\n",
            "        Layer (type)               Output Shape         Param #\n",
            "================================================================\n",
            "            Conv2d-1           [-1, 20, 26, 26]             200\n",
            "       BatchNorm2d-2           [-1, 20, 26, 26]              40\n",
            "           Dropout-3           [-1, 20, 26, 26]               0\n",
            "              ReLU-4           [-1, 20, 26, 26]               0\n",
            "            Conv2d-5           [-1, 16, 24, 24]           2,896\n",
            "       BatchNorm2d-6           [-1, 16, 24, 24]              32\n",
            "           Dropout-7           [-1, 16, 24, 24]               0\n",
            "              ReLU-8           [-1, 16, 24, 24]               0\n",
            "         MaxPool2d-9           [-1, 16, 12, 12]               0\n",
            "           Conv2d-10           [-1, 16, 10, 10]           2,320\n",
            "      BatchNorm2d-11           [-1, 16, 10, 10]              32\n",
            "          Dropout-12           [-1, 16, 10, 10]               0\n",
            "             ReLU-13           [-1, 16, 10, 10]               0\n",
            "        MaxPool2d-14             [-1, 16, 5, 5]               0\n",
            "           Conv2d-15             [-1, 16, 3, 3]           2,320\n",
            "      BatchNorm2d-16             [-1, 16, 3, 3]              32\n",
            "          Dropout-17             [-1, 16, 3, 3]               0\n",
            "             ReLU-18             [-1, 16, 3, 3]               0\n",
            "           Conv2d-19             [-1, 13, 1, 1]           1,885\n",
            "      BatchNorm2d-20             [-1, 13, 1, 1]              26\n",
            "          Dropout-21             [-1, 13, 1, 1]               0\n",
            "             ReLU-22             [-1, 13, 1, 1]               0\n",
            "           Conv2d-23             [-1, 10, 1, 1]             140\n",
            "================================================================\n",
            "Total params: 9,923\n",
            "Trainable params: 9,923\n",
            "Non-trainable params: 0\n",
            "----------------------------------------------------------------\n",
            "Input size (MB): 0.00\n",
            "Forward/backward pass size (MB): 0.77\n",
            "Params size (MB): 0.04\n",
            "Estimated Total Size (MB): 0.81\n",
            "----------------------------------------------------------------\n"
          ],
          "name": "stdout"
        },
        {
          "output_type": "stream",
          "text": [
            "/usr/local/lib/python3.6/dist-packages/ipykernel_launcher.py:67: UserWarning: Implicit dimension choice for log_softmax has been deprecated. Change the call to include dim=X as an argument.\n"
          ],
          "name": "stderr"
        }
      ]
    },
    {
      "cell_type": "code",
      "metadata": {
        "id": "DqTWLaM5GHgH",
        "colab_type": "code",
        "colab": {}
      },
      "source": [
        "\n",
        "\n",
        "torch.manual_seed(1)\n",
        "batch_size = 64\n",
        "\n",
        "kwargs = {'num_workers': 1, 'pin_memory': True} if use_cuda else {}\n",
        "train_loader = torch.utils.data.DataLoader(\n",
        "    datasets.MNIST('../data', train=True, download=True,\n",
        "                    transform=transforms.Compose([\n",
        "                        transforms.ToTensor(),\n",
        "                        transforms.Normalize((0.1307,), (0.3081,))\n",
        "                    ])),\n",
        "    batch_size=batch_size, shuffle=True, **kwargs)\n",
        "test_loader = torch.utils.data.DataLoader(\n",
        "    datasets.MNIST('../data', train=False, transform=transforms.Compose([\n",
        "                        transforms.ToTensor(),\n",
        "                        transforms.Normalize((0.1307,), (0.3081,))\n",
        "                    ])),\n",
        "    batch_size=batch_size, shuffle=True, **kwargs)\n"
      ],
      "execution_count": 0,
      "outputs": []
    },
    {
      "cell_type": "code",
      "metadata": {
        "id": "8fDefDhaFlwH",
        "colab_type": "code",
        "colab": {}
      },
      "source": [
        "from tqdm import tqdm\n",
        "\n",
        "Train_Loss=[]\n",
        "Train_Accuracy=[]\n",
        "Test_Loss=[]\n",
        "Test_Accuracy=[]\n",
        "\n",
        "def train(model, device, train_loader, optimizer, epoch):\n",
        "    model.train()\n",
        "    pbar = tqdm(train_loader)\n",
        "    correct_train=0\n",
        "    for batch_idx, (data, target) in enumerate(pbar):\n",
        "        data, target = data.to(device), target.to(device)\n",
        "        optimizer.zero_grad()\n",
        "        output = model(data)\n",
        "        loss = F.nll_loss(output, target)\n",
        "        Train_Loss.append(loss.item())\n",
        "        pred = output.argmax(dim=1, keepdim=True)\n",
        "        correct_train += pred.eq(target.view_as(pred)).sum().item()\n",
        "        Train_Accuracy.append(100.00 *correct_train/len(train_loader.dataset))\n",
        "        loss.backward()\n",
        "        optimizer.step()\n",
        "        #pbar.set_description(desc= f'TRAINING Loss={loss.item()} batch_id={batch_idx}')\n",
        "        \n",
        "        ##Added detailed percentage:\n",
        "        pbar.set_description(desc= f'TRAIN Loss={loss.item()} batch_id={batch_idx} Correct={correct_train} / {len(train_loader.dataset)} TRAIN ACCURACY={100.00 *correct_train/len(train_loader.dataset)}')\n",
        "     \n",
        "\n",
        "\n",
        "def test(model, device, test_loader):\n",
        "    model.eval()\n",
        "    test_loss = 0\n",
        "    correct = 0\n",
        "    with torch.no_grad():\n",
        "        for data, target in test_loader:\n",
        "            data, target = data.to(device), target.to(device)\n",
        "            output = model(data)\n",
        "            loss=F.nll_loss(output, target)\n",
        "            test_loss += F.nll_loss(output, target, reduction='sum').item()  # sum up batch loss\n",
        "            \n",
        "            pred = output.argmax(dim=1, keepdim=True)  # get the index of the max log-probability\n",
        "            \n",
        "            correct += pred.eq(target.view_as(pred)).sum().item()\n",
        "            \n",
        "    test_loss /= len(test_loader.dataset)\n",
        "    Test_Loss.append(test_loss)\n",
        "    Test_Accuracy.append(100. * correct / len(test_loader.dataset))\n",
        "    print('\\nTEST: Average loss: {:.4f}, Accuracy: {}/{} ({:.2f}%)\\n'.format(\n",
        "        test_loss, correct, len(test_loader.dataset),\n",
        "        100. * correct / len(test_loader.dataset)))\n",
        "    \n"
      ],
      "execution_count": 0,
      "outputs": []
    },
    {
      "cell_type": "code",
      "metadata": {
        "id": "MMWbLWO6FuHb",
        "colab_type": "code",
        "colab": {
          "base_uri": "https://localhost:8080/",
          "height": 1000
        },
        "outputId": "a8a2ffa6-67f1-42a3-f492-dc243976cc73"
      },
      "source": [
        "from torch.optim.lr_scheduler import StepLR\n",
        "\n",
        "model = Net().to(device)\n",
        "optimizer = optim.SGD(model.parameters(), lr=0.01, momentum=0.9)\n",
        "scheduler = StepLR(optimizer, step_size=6, gamma=0.1)\n",
        "\n",
        "df_Test_Train_Analysis=pd.DataFrame(columns=['EPOCH','Test_Acc','Train_Acc','Acc_Diff'])\n",
        "print(df_Test_Train_Analysis.shape)\n",
        "for epoch in range(1, 15):\n",
        "    print('EPOCH #',epoch)\n",
        "    train(model, device, train_loader, optimizer, epoch)\n",
        "    test(model, device, test_loader)\n",
        "    print('----------------------------------------------------------------------')"
      ],
      "execution_count": 8,
      "outputs": [
        {
          "output_type": "stream",
          "text": [
            "\r  0%|          | 0/938 [00:00<?, ?it/s]"
          ],
          "name": "stderr"
        },
        {
          "output_type": "stream",
          "text": [
            "(0, 4)\n",
            "EPOCH # 1\n"
          ],
          "name": "stdout"
        },
        {
          "output_type": "stream",
          "text": [
            "/usr/local/lib/python3.6/dist-packages/ipykernel_launcher.py:67: UserWarning: Implicit dimension choice for log_softmax has been deprecated. Change the call to include dim=X as an argument.\n",
            "TRAIN Loss=0.11304358392953873 batch_id=937 Correct=55830 / 60000 TRAIN ACCURACY=93.05: 100%|██████████| 938/938 [00:15<00:00, 59.92it/s]\n",
            "  0%|          | 0/938 [00:00<?, ?it/s]"
          ],
          "name": "stderr"
        },
        {
          "output_type": "stream",
          "text": [
            "\n",
            "TEST: Average loss: 0.0468, Accuracy: 9862/10000 (98.62%)\n",
            "\n",
            "----------------------------------------------------------------------\n",
            "EPOCH # 2\n"
          ],
          "name": "stdout"
        },
        {
          "output_type": "stream",
          "text": [
            "TRAIN Loss=0.07809174060821533 batch_id=937 Correct=58795 / 60000 TRAIN ACCURACY=97.99166666666666: 100%|██████████| 938/938 [00:15<00:00, 61.02it/s]\n",
            "  0%|          | 0/938 [00:00<?, ?it/s]"
          ],
          "name": "stderr"
        },
        {
          "output_type": "stream",
          "text": [
            "\n",
            "TEST: Average loss: 0.0355, Accuracy: 9902/10000 (99.02%)\n",
            "\n",
            "----------------------------------------------------------------------\n",
            "EPOCH # 3\n"
          ],
          "name": "stdout"
        },
        {
          "output_type": "stream",
          "text": [
            "TRAIN Loss=0.044644542038440704 batch_id=937 Correct=59060 / 60000 TRAIN ACCURACY=98.43333333333334: 100%|██████████| 938/938 [00:15<00:00, 61.15it/s]\n",
            "  0%|          | 0/938 [00:00<?, ?it/s]"
          ],
          "name": "stderr"
        },
        {
          "output_type": "stream",
          "text": [
            "\n",
            "TEST: Average loss: 0.0362, Accuracy: 9904/10000 (99.04%)\n",
            "\n",
            "----------------------------------------------------------------------\n",
            "EPOCH # 4\n"
          ],
          "name": "stdout"
        },
        {
          "output_type": "stream",
          "text": [
            "TRAIN Loss=0.03305545449256897 batch_id=937 Correct=59225 / 60000 TRAIN ACCURACY=98.70833333333333: 100%|██████████| 938/938 [00:15<00:00, 60.10it/s]\n",
            "  0%|          | 0/938 [00:00<?, ?it/s]"
          ],
          "name": "stderr"
        },
        {
          "output_type": "stream",
          "text": [
            "\n",
            "TEST: Average loss: 0.0296, Accuracy: 9911/10000 (99.11%)\n",
            "\n",
            "----------------------------------------------------------------------\n",
            "EPOCH # 5\n"
          ],
          "name": "stdout"
        },
        {
          "output_type": "stream",
          "text": [
            "TRAIN Loss=0.002207130193710327 batch_id=937 Correct=59277 / 60000 TRAIN ACCURACY=98.795: 100%|██████████| 938/938 [00:15<00:00, 59.94it/s]\n",
            "  0%|          | 0/938 [00:00<?, ?it/s]"
          ],
          "name": "stderr"
        },
        {
          "output_type": "stream",
          "text": [
            "\n",
            "TEST: Average loss: 0.0281, Accuracy: 9908/10000 (99.08%)\n",
            "\n",
            "----------------------------------------------------------------------\n",
            "EPOCH # 6\n"
          ],
          "name": "stdout"
        },
        {
          "output_type": "stream",
          "text": [
            "TRAIN Loss=0.004798993468284607 batch_id=937 Correct=59370 / 60000 TRAIN ACCURACY=98.95: 100%|██████████| 938/938 [00:15<00:00, 59.74it/s]\n",
            "  0%|          | 0/938 [00:00<?, ?it/s]"
          ],
          "name": "stderr"
        },
        {
          "output_type": "stream",
          "text": [
            "\n",
            "TEST: Average loss: 0.0261, Accuracy: 9926/10000 (99.26%)\n",
            "\n",
            "----------------------------------------------------------------------\n",
            "EPOCH # 7\n"
          ],
          "name": "stdout"
        },
        {
          "output_type": "stream",
          "text": [
            "TRAIN Loss=0.01608934998512268 batch_id=937 Correct=59393 / 60000 TRAIN ACCURACY=98.98833333333333: 100%|██████████| 938/938 [00:15<00:00, 60.06it/s]\n",
            "  0%|          | 0/938 [00:00<?, ?it/s]"
          ],
          "name": "stderr"
        },
        {
          "output_type": "stream",
          "text": [
            "\n",
            "TEST: Average loss: 0.0242, Accuracy: 9930/10000 (99.30%)\n",
            "\n",
            "----------------------------------------------------------------------\n",
            "EPOCH # 8\n"
          ],
          "name": "stdout"
        },
        {
          "output_type": "stream",
          "text": [
            "TRAIN Loss=0.1274120956659317 batch_id=937 Correct=59445 / 60000 TRAIN ACCURACY=99.075: 100%|██████████| 938/938 [00:15<00:00, 59.67it/s]\n",
            "  0%|          | 0/938 [00:00<?, ?it/s]"
          ],
          "name": "stderr"
        },
        {
          "output_type": "stream",
          "text": [
            "\n",
            "TEST: Average loss: 0.0223, Accuracy: 9937/10000 (99.37%)\n",
            "\n",
            "----------------------------------------------------------------------\n",
            "EPOCH # 9\n"
          ],
          "name": "stdout"
        },
        {
          "output_type": "stream",
          "text": [
            "TRAIN Loss=0.0036022067070007324 batch_id=937 Correct=59499 / 60000 TRAIN ACCURACY=99.165: 100%|██████████| 938/938 [00:15<00:00, 60.31it/s]\n",
            "  0%|          | 0/938 [00:00<?, ?it/s]"
          ],
          "name": "stderr"
        },
        {
          "output_type": "stream",
          "text": [
            "\n",
            "TEST: Average loss: 0.0232, Accuracy: 9931/10000 (99.31%)\n",
            "\n",
            "----------------------------------------------------------------------\n",
            "EPOCH # 10\n"
          ],
          "name": "stdout"
        },
        {
          "output_type": "stream",
          "text": [
            "TRAIN Loss=0.0008698999881744385 batch_id=937 Correct=59530 / 60000 TRAIN ACCURACY=99.21666666666667: 100%|██████████| 938/938 [00:15<00:00, 58.81it/s]\n",
            "  0%|          | 0/938 [00:00<?, ?it/s]"
          ],
          "name": "stderr"
        },
        {
          "output_type": "stream",
          "text": [
            "\n",
            "TEST: Average loss: 0.0235, Accuracy: 9938/10000 (99.38%)\n",
            "\n",
            "----------------------------------------------------------------------\n",
            "EPOCH # 11\n"
          ],
          "name": "stdout"
        },
        {
          "output_type": "stream",
          "text": [
            "TRAIN Loss=0.01777687668800354 batch_id=937 Correct=59532 / 60000 TRAIN ACCURACY=99.22: 100%|██████████| 938/938 [00:15<00:00, 59.56it/s]\n",
            "  0%|          | 0/938 [00:00<?, ?it/s]"
          ],
          "name": "stderr"
        },
        {
          "output_type": "stream",
          "text": [
            "\n",
            "TEST: Average loss: 0.0250, Accuracy: 9931/10000 (99.31%)\n",
            "\n",
            "----------------------------------------------------------------------\n",
            "EPOCH # 12\n"
          ],
          "name": "stdout"
        },
        {
          "output_type": "stream",
          "text": [
            "TRAIN Loss=0.04591198265552521 batch_id=937 Correct=59578 / 60000 TRAIN ACCURACY=99.29666666666667: 100%|██████████| 938/938 [00:15<00:00, 60.17it/s]\n",
            "  0%|          | 0/938 [00:00<?, ?it/s]"
          ],
          "name": "stderr"
        },
        {
          "output_type": "stream",
          "text": [
            "\n",
            "TEST: Average loss: 0.0257, Accuracy: 9925/10000 (99.25%)\n",
            "\n",
            "----------------------------------------------------------------------\n",
            "EPOCH # 13\n"
          ],
          "name": "stdout"
        },
        {
          "output_type": "stream",
          "text": [
            "TRAIN Loss=0.00904218852519989 batch_id=937 Correct=59592 / 60000 TRAIN ACCURACY=99.32: 100%|██████████| 938/938 [00:15<00:00, 60.24it/s]\n",
            "  0%|          | 0/938 [00:00<?, ?it/s]"
          ],
          "name": "stderr"
        },
        {
          "output_type": "stream",
          "text": [
            "\n",
            "TEST: Average loss: 0.0208, Accuracy: 9936/10000 (99.36%)\n",
            "\n",
            "----------------------------------------------------------------------\n",
            "EPOCH # 14\n"
          ],
          "name": "stdout"
        },
        {
          "output_type": "stream",
          "text": [
            "TRAIN Loss=0.008609741926193237 batch_id=937 Correct=59600 / 60000 TRAIN ACCURACY=99.33333333333333: 100%|██████████| 938/938 [00:15<00:00, 59.99it/s]\n"
          ],
          "name": "stderr"
        },
        {
          "output_type": "stream",
          "text": [
            "\n",
            "TEST: Average loss: 0.0229, Accuracy: 9940/10000 (99.40%)\n",
            "\n",
            "----------------------------------------------------------------------\n"
          ],
          "name": "stdout"
        }
      ]
    },
    {
      "cell_type": "markdown",
      "metadata": {
        "id": "j-JaAcAgYkK0",
        "colab_type": "text"
      },
      "source": [
        "#Goal\t\n",
        "In this iteration we intend to increase Model Accuracy to 99.4% and beyond at the same time maintaining the model consistancy.\n",
        "#Params\t\n",
        "9,923\n",
        "\n",
        "#WITH 15 EPOCHS\n",
        "\n",
        "#DropOut value\n",
        "0.02\n",
        "\n",
        "#Best Train Accuracy\t\n",
        "99.33%\n",
        "\n",
        "#Best Test Accuracy\t\n",
        "99.4%\n",
        "\n",
        "#Observation/ Analysis/Conclusion\t\n",
        "We have achived target accuracy also the Model did not fall to Ovefitting.\n",
        "This is a decent model.\n",
        "\n",
        "\n"
      ]
    }
  ]
}